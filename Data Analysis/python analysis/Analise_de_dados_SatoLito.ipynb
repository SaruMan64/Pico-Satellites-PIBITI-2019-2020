{
  "nbformat": 4,
  "nbformat_minor": 0,
  "metadata": {
    "colab": {
      "name": "Analise de dados SatoLito",
      "provenance": [],
      "private_outputs": true,
      "collapsed_sections": [],
      "toc_visible": true
    },
    "kernelspec": {
      "name": "python3",
      "display_name": "Python 3"
    }
  },
  "cells": [
    {
      "cell_type": "markdown",
      "metadata": {
        "id": "LuVMT-QCpAqt",
        "colab_type": "text"
      },
      "source": [
        "# Analise dos dados do SateLito\n",
        "\n",
        "O SateLito compõem de um microlodador, dois sensores, o BME280 e o MPU6050, ele também tem um módulo de micro sd card, para ser utilizado como datalogger.\n",
        "\n",
        "É gerado um arquivo planilha, com extensão .csv, que é separado com virgula, tendo um total de doze dados, um tempo, que é gerado pelo próprio microcontrolador, 4 do BMP280 e 7 do MPU6050. Para analise, iremos utilizar a linguagem python como interface de visulização.\n"
      ]
    },
    {
      "cell_type": "markdown",
      "metadata": {
        "id": "ZtC4pWoUq2qL",
        "colab_type": "text"
      },
      "source": [
        "## Código em python\n",
        "\n",
        "Para começar, vamos incluir as bibliotecas para facilitar a vizualização, elas são:\n",
        "\n",
        "Matplotlib - Utilizada para vizualização via gráfico. \\\\\n",
        "Pandas - Utilizado para manipular planilhas. \\\\"
      ]
    },
    {
      "cell_type": "code",
      "metadata": {
        "id": "GfCpQ0BXu2LY",
        "colab_type": "code",
        "colab": {}
      },
      "source": [
        "import pandas as pd\n",
        "import matplotlib.pyplot as plt\n",
        "from matplotlib.dates import DateFormatter"
      ],
      "execution_count": null,
      "outputs": []
    },
    {
      "cell_type": "markdown",
      "metadata": {
        "id": "c7Y6dA4Otj85",
        "colab_type": "text"
      },
      "source": [
        "Para visualizar os gráficos no Jupyter ou no Colab, é necessario usar a seguinte linha:"
      ]
    },
    {
      "cell_type": "code",
      "metadata": {
        "id": "Nyw2rtFMtu7I",
        "colab_type": "code",
        "colab": {}
      },
      "source": [
        "#command to use Matplotlib in Jupyter or Colab\n",
        "%matplotlib inline "
      ],
      "execution_count": null,
      "outputs": []
    },
    {
      "cell_type": "markdown",
      "metadata": {
        "id": "iOEUMdVBuGQG",
        "colab_type": "text"
      },
      "source": [
        "Com as bibliotecas já inseridas, vamos agora ler o arquivo .csv. É recomendavel utilizar os dados no mesmo repositório."
      ]
    },
    {
      "cell_type": "code",
      "metadata": {
        "id": "AMmaIXyNuQUm",
        "colab_type": "code",
        "colab": {}
      },
      "source": [
        "df = pd.read_csv('/content/data.csv')\n",
        "df"
      ],
      "execution_count": null,
      "outputs": []
    },
    {
      "cell_type": "markdown",
      "metadata": {
        "id": "LH4XhLawbX8Z",
        "colab_type": "text"
      },
      "source": [
        "O tempo que consta na tabela, não é do tipo tempo, e sim de string, para isso, vamos transforma-la utilizando o modulo to_datetime da biblioteca pandas. Também vamos tirar a média da temperatura, ja que ambos os sensores coletam essa variavel."
      ]
    },
    {
      "cell_type": "code",
      "metadata": {
        "id": "-F0PKV8mpAFG",
        "colab_type": "code",
        "colab": {}
      },
      "source": [
        "time = pd.to_datetime(df['time'])\n",
        "tpm = (df['Temperature_bme']+df['Temperature_mpu'])/2"
      ],
      "execution_count": null,
      "outputs": []
    },
    {
      "cell_type": "markdown",
      "metadata": {
        "id": "K22ukc_Ze8M0",
        "colab_type": "text"
      },
      "source": [
        "A partir de agora, iremos construir os gráficos."
      ]
    },
    {
      "cell_type": "markdown",
      "metadata": {
        "id": "LsWXEYIYwGvi",
        "colab_type": "text"
      },
      "source": [
        "### Altitude e Pressão em função do Tempo."
      ]
    },
    {
      "cell_type": "code",
      "metadata": {
        "id": "sPMeAyvE4IaT",
        "colab_type": "code",
        "colab": {}
      },
      "source": [
        "# creating the figure\n",
        "fig1, alt = plt.subplots(figsize=(12, 8))\n",
        "pres = alt.twinx()\n",
        "\n",
        "# creating the plot\n",
        "lalt = alt.plot(time, df['Altitude'], color='blue', label='Altitude')\n",
        "lpres = pres.plot(time, df['Pressure'], color='red', label='Pressão')\n",
        "\n",
        "# creating the legend\n",
        "lap = lalt + lpres\n",
        "line = [l.get_label() for l in lap]\n",
        "alt.legend(lap, line, loc=0)\n",
        "\n",
        "# creating the x-axis label and the figure title\n",
        "alt.set_title('Altitude e Pressão em função do Tempo')\n",
        "alt.set_xlabel('Tempo (s)')\n",
        "\n",
        "# creating the x-axis tick params\n",
        "myFmt = DateFormatter(\"%H:%M\")\n",
        "alt.xaxis.set_major_formatter(myFmt)\n",
        "fig1.autofmt_xdate()\n",
        "\n",
        "# creating the y-aixs label and the altitude plot\n",
        "alt.set_ylabel('Altitude (m)', color='blue')\n",
        "alt.tick_params(axis='y', labelcolor='blue')\n",
        "\n",
        "# creating the y-axis label and the pressure plot\n",
        "pres.set_ylabel('Presão (hPa)', color='red')\n",
        "pres.tick_params(axis='y', labelcolor='red')\n",
        "\n",
        "# creating the grid and showing the figure\n",
        "alt.grid()\n",
        "fig1.tight_layout()\n",
        "plt.show()"
      ],
      "execution_count": null,
      "outputs": []
    },
    {
      "cell_type": "markdown",
      "metadata": {
        "id": "wsQM5davzXic",
        "colab_type": "text"
      },
      "source": [
        "### Temperaturas em função do Tempo."
      ]
    },
    {
      "cell_type": "code",
      "metadata": {
        "id": "WJUHR5lztIkE",
        "colab_type": "code",
        "colab": {}
      },
      "source": [
        "# creating the figure\n",
        "fig2, temp = plt.subplots(figsize=(12, 8))\n",
        "\n",
        "# creating the plot\n",
        "lbme, = temp.plot(time, df['Temperature_bme'], color='blue', label='Sensor BME280')\n",
        "lmpu, = temp.plot(time, df['Temperature_mpu'], color='red', label='Sensor MPU6050')\n",
        "\n",
        "#creating the legend\n",
        "temp.legend()\n",
        "\n",
        "# creating the x-axis label and the figure title\n",
        "temp.set_title('Temperaturas em função do Tempo')\n",
        "temp.set_xlabel('Tempo (s)')\n",
        "\n",
        "# creating the x-axis tick params\n",
        "myFmt = DateFormatter(\"%H:%M\")\n",
        "temp.xaxis.set_major_formatter(myFmt)\n",
        "fig2.autofmt_xdate()\n",
        "\n",
        "# creating the y-aixs label and the altitude plot\n",
        "temp.set_ylabel('Temperatura ºC')\n",
        "temp.tick_params(axis='y')\n",
        "\n",
        "# creating the grid and showing the figure\n",
        "temp.grid()\n",
        "plt.show()"
      ],
      "execution_count": null,
      "outputs": []
    },
    {
      "cell_type": "markdown",
      "metadata": {
        "id": "bzV1ZPYr485r",
        "colab_type": "text"
      },
      "source": [
        "### Temperatura média e Umidade em função do Tempo."
      ]
    },
    {
      "cell_type": "code",
      "metadata": {
        "id": "5knNfbCn2ts6",
        "colab_type": "code",
        "colab": {}
      },
      "source": [
        "# creating the figure\n",
        "fig3, temp2 = plt.subplots(figsize=(12, 8))\n",
        "humy = temp2.twinx()\n",
        "\n",
        "# creating the plot\n",
        "ltemp2 = temp2.plot(time, tpm, color='blue', label='Temperatura média ºC')\n",
        "lhumy = humy.plot(time, df['Humidity'], color='red', label='Umidade')\n",
        "\n",
        "# creating the legend\n",
        "lth = ltemp2 + lhumy\n",
        "line = [l.get_label() for l in lth]\n",
        "temp2.legend(lth, line, loc=0)\n",
        "\n",
        "# creating the x-axis label and the figure title\n",
        "temp2.set_title('Temperatura média e Umidade em função do Tempo')\n",
        "temp2.set_xlabel('Tempo (s)')\n",
        "\n",
        "# creating the x-axis tick params\n",
        "myFmt = DateFormatter(\"%H:%M\")\n",
        "temp2.xaxis.set_major_formatter(myFmt)\n",
        "fig3.autofmt_xdate()\n",
        "\n",
        "# creating the y-aixs label and the Temperature plot\n",
        "temp2.set_ylabel('Temperatura média ºC', color='blue')\n",
        "temp2.tick_params(axis='y', labelcolor='blue')\n",
        "\n",
        "# creating the y-axis label and the Humidy plot\n",
        "humy.set_ylabel('Umidade (%)', color='red')\n",
        "humy.tick_params(axis='y', labelcolor='red')\n",
        "\n",
        "# creating the grid and showing the figure\n",
        "temp2.grid()\n",
        "fig3.tight_layout()\n",
        "plt.show()"
      ],
      "execution_count": null,
      "outputs": []
    },
    {
      "cell_type": "markdown",
      "metadata": {
        "id": "tWF4s0DK47Fu",
        "colab_type": "text"
      },
      "source": [
        "### Rotação em função do Tempo."
      ]
    },
    {
      "cell_type": "code",
      "metadata": {
        "id": "qrWYB2f347a4",
        "colab_type": "code",
        "colab": {}
      },
      "source": [
        "# creating the figure\n",
        "fig4, giro = plt.subplots(figsize=(12, 8))\n",
        "\n",
        "# creating the plot\n",
        "lgx, = giro.plot(time, df['Gx'], color='blue', label='Eixo X')\n",
        "lgy, = giro.plot(time, df['Gy'], color='red', label='Eixo Y')\n",
        "lgz, = giro.plot(time, df['Gz'], color='green', label='Eixo Z')\n",
        "#creating the legend\n",
        "giro.legend(loc='upper right')\n",
        "\n",
        "# creating the x-axis label and the figure title\n",
        "giro.set_title('Rotação em função do Tempo')\n",
        "giro.set_xlabel('Tempo (s)')\n",
        "\n",
        "# creating the x-axis tick params\n",
        "myFmt = DateFormatter(\"%H:%M\")\n",
        "giro.xaxis.set_major_formatter(myFmt)\n",
        "fig4.autofmt_xdate()\n",
        "\n",
        "# creating the y-aixs label and the altitude plot\n",
        "giro.set_ylabel('Rotação (º/s)')\n",
        "giro.tick_params(axis='y')\n",
        "\n",
        "# creating the grid and showing the figure\n",
        "giro.grid()\n",
        "plt.show()"
      ],
      "execution_count": null,
      "outputs": []
    },
    {
      "cell_type": "markdown",
      "metadata": {
        "id": "O8QpCaQy92iN",
        "colab_type": "text"
      },
      "source": [
        "### Aceleração em função do Tempo."
      ]
    },
    {
      "cell_type": "code",
      "metadata": {
        "id": "5OdKfozl92--",
        "colab_type": "code",
        "colab": {}
      },
      "source": [
        "# creating the figure\n",
        "fig5, ace = plt.subplots(figsize=(12, 8))\n",
        "\n",
        "# creating the plot\n",
        "lax, = ace.plot(time, df['Ax'], color='blue', label='Eixo X')\n",
        "lay, = ace.plot(time, df['Ay'], color='red', label='Eixo Y')\n",
        "laz, = ace.plot(time, df['Az'], color='green', label='Eixo Z')\n",
        "#creating the legend\n",
        "ace.legend(loc='upper right')\n",
        "\n",
        "# creating the x-axis label and the figure title\n",
        "ace.set_title('Aceleração em função do Tempo')\n",
        "ace.set_xlabel('Tempo (s)')\n",
        "\n",
        "# creating the x-axis tick params\n",
        "myFmt = DateFormatter(\"%H:%M\")\n",
        "ace.xaxis.set_major_formatter(myFmt)\n",
        "fig5.autofmt_xdate()\n",
        "\n",
        "# creating the y-aixs label and the altitude plot\n",
        "ace.set_ylabel('Aceleração (g)')\n",
        "ace.tick_params(axis='y')\n",
        "\n",
        "# creating the grid and showing the figure\n",
        "ace.grid()\n",
        "plt.show()"
      ],
      "execution_count": null,
      "outputs": []
    },
    {
      "cell_type": "markdown",
      "metadata": {
        "id": "9EJ7hxzL_wOj",
        "colab_type": "text"
      },
      "source": [
        "### Aceleração dos Eixos em função do Tempo."
      ]
    },
    {
      "cell_type": "code",
      "metadata": {
        "id": "TqGqGLekA8uP",
        "colab_type": "code",
        "colab": {}
      },
      "source": [
        "fig6, ace2 = plt.subplots(3, 1, sharex=True, figsize=(12, 8))\n",
        "# Remove horizontal space between axes\n",
        "fig6.subplots_adjust(hspace=0.04)\n",
        "\n",
        "# Plot each graph, and manually set the y tick values\n",
        "ace2[0].plot(time, df['Ax'], color='blue')\n",
        "ace2[0].set_ylabel('Eixo X (g)')\n",
        "\n",
        "ace2[1].plot(time, df['Ay'], color='red')\n",
        "ace2[1].set_ylabel('Eixo Y (g)')\n",
        "\n",
        "ace2[2].plot(time, df['Az'], color='green')\n",
        "ace2[2].set_ylabel('Eixo Z (g)')\n",
        "\n",
        "# creating the x-axis label and the figure title\n",
        "ace2[0].set_title('Aceleração dos Eixos em função do Tempo')\n",
        "ace2[2].set_xlabel('Tempo (s)')\n",
        "\n",
        "# creating the x-axis tick params\n",
        "myFmt = DateFormatter(\"%H:%M\")\n",
        "ace2[2].xaxis.set_major_formatter(myFmt)\n",
        "fig6.autofmt_xdate()\n",
        "\n",
        "# creating the grid and showing the figure\n",
        "grid = [ace2[i].grid() for i in range(3)]\n",
        "plt.show()"
      ],
      "execution_count": null,
      "outputs": []
    },
    {
      "cell_type": "markdown",
      "metadata": {
        "id": "p6cCktVkFqCF",
        "colab_type": "text"
      },
      "source": [
        "### Rotação dos Eixos em função do Tempo."
      ]
    },
    {
      "cell_type": "code",
      "metadata": {
        "id": "yC5-xgFRFqbH",
        "colab_type": "code",
        "colab": {}
      },
      "source": [
        "fig7, giro2 = plt.subplots(3, 1, sharex=True, figsize=(12, 8))\n",
        "# Remove horizontal space between axes\n",
        "fig7.subplots_adjust(hspace=0.04)\n",
        "\n",
        "# Plot each graph, and manually set the y tick values\n",
        "giro2[0].plot(time, df['Gx'], color='blue')\n",
        "giro2[0].set_ylabel('Eixo X (º/s)')\n",
        "\n",
        "giro2[1].plot(time, df['Gy'], color='red')\n",
        "giro2[1].set_ylabel('Eixo Y (º/s)')\n",
        "\n",
        "giro2[2].plot(time, df['Gz'], color='green')\n",
        "giro2[2].set_ylabel('Eixo Z (º/s)')\n",
        "\n",
        "# creating the x-axis label and the figure title\n",
        "giro2[0].set_title('Rotação dos Eixos em função do Tempo')\n",
        "giro2[2].set_xlabel('Tempo (s)')\n",
        "\n",
        "# creating the x-axis tick params\n",
        "myFmt = DateFormatter(\"%H:%M\")\n",
        "giro2[2].xaxis.set_major_formatter(myFmt)\n",
        "fig7.autofmt_xdate()\n",
        "\n",
        "# creating the grid and showing the figure\n",
        "grid = [giro2[i].grid() for i in range(3)]\n",
        "plt.show()"
      ],
      "execution_count": null,
      "outputs": []
    },
    {
      "cell_type": "markdown",
      "metadata": {
        "id": "drgrDIp9bwdv",
        "colab_type": "text"
      },
      "source": [
        "### Pressão em função da Altitude."
      ]
    },
    {
      "cell_type": "code",
      "metadata": {
        "id": "gm_wjj4tbw5m",
        "colab_type": "code",
        "colab": {}
      },
      "source": [
        "# creating the figure\n",
        "fig8, pa = plt.subplots(figsize=(12, 8))\n",
        "\n",
        "# creating the plot\n",
        "lpa, = pa.plot(df['Altitude'], df['Pressure'], color='blue')\n",
        "\n",
        "#creating the legend\n",
        "#pa.legend()\n",
        "\n",
        "# creating the x-axis label and the figure title\n",
        "pa.set_title('Pressão em função da Altitude')\n",
        "pa.set_xlabel('Altitude (m)')\n",
        "\n",
        "# creating the y-aixs label and the altitude plot\n",
        "pa.set_ylabel('Pressão (hPa)')\n",
        "pa.tick_params(axis='y')\n",
        "\n",
        "# creating the grid and showing the figure\n",
        "pa.grid()\n",
        "plt.show()"
      ],
      "execution_count": null,
      "outputs": []
    },
    {
      "cell_type": "markdown",
      "metadata": {
        "id": "VuX-LcBOGU3F",
        "colab_type": "text"
      },
      "source": [
        "### Pressão em função da Temperatura média."
      ]
    },
    {
      "cell_type": "code",
      "metadata": {
        "id": "wGsndMwIGVMo",
        "colab_type": "code",
        "colab": {}
      },
      "source": [
        "# creating the figure\n",
        "fig8, pa = plt.subplots(figsize=(12, 8))\n",
        "\n",
        "# creating the plot\n",
        "lpa, = pa.plot(tpm.sort_values(), df['Pressure'], color='blue')\n",
        "\n",
        "#creating the legend\n",
        "#pa.legend()\n",
        "\n",
        "# creating the x-axis label and the figure title\n",
        "pa.set_title('Pressão em função da Temperatura média')\n",
        "pa.set_xlabel('Temperatura média (ºC)')\n",
        "\n",
        "# creating the y-aixs label and the altitude plot\n",
        "pa.set_ylabel('Pressão (hPa)')\n",
        "pa.tick_params(axis='y')\n",
        "\n",
        "# creating the grid and showing the figure\n",
        "pa.grid()\n",
        "plt.show()"
      ],
      "execution_count": null,
      "outputs": []
    },
    {
      "cell_type": "markdown",
      "metadata": {
        "id": "4HDmctLMIPWc",
        "colab_type": "text"
      },
      "source": [
        "### Temperatura média em função da Altitude."
      ]
    },
    {
      "cell_type": "code",
      "metadata": {
        "id": "fAUW30yWIPzr",
        "colab_type": "code",
        "colab": {}
      },
      "source": [
        "# creating the figure\n",
        "fig9, at = plt.subplots(figsize=(12, 8))\n",
        "\n",
        "# creating the plot\n",
        "lat, = at.plot(df['Altitude'], tpm.sort_values(), color='blue')\n",
        "\n",
        "#creating the legend\n",
        "#pa.legend()\n",
        "\n",
        "# creating the x-axis label and the figure title\n",
        "at.set_title('Temperatura média em função da Altitude')\n",
        "at.set_xlabel('Altitude (m)')\n",
        "\n",
        "# creating the y-aixs label and the altitude plot\n",
        "at.set_ylabel('Temperatura média (ºC)')\n",
        "at.tick_params(axis='y')\n",
        "\n",
        "# creating the grid and showing the figure\n",
        "at.grid()\n",
        "plt.show()"
      ],
      "execution_count": null,
      "outputs": []
    },
    {
      "cell_type": "markdown",
      "metadata": {
        "id": "eVcB-NgA84gE",
        "colab_type": "text"
      },
      "source": [
        "### Umidade em função da Altitude."
      ]
    },
    {
      "cell_type": "code",
      "metadata": {
        "id": "RgT6Izc16UeK",
        "colab_type": "code",
        "colab": {}
      },
      "source": [
        "# creating the figure\n",
        "fig10, ah = plt.subplots(figsize=(12, 8))\n",
        "\n",
        "# creating the plot\n",
        "lah, = ah.plot(df['Altitude'], df['Humidity'].sort_values(), color='blue')\n",
        "\n",
        "#creating the legend\n",
        "#pa.legend()\n",
        "\n",
        "# creating the x-axis label and the figure title\n",
        "ah.set_title('Umidade em função da Altitude')\n",
        "ah.set_xlabel('Altitude (m)')\n",
        "\n",
        "# creating the y-aixs label and the altitude plot\n",
        "ah.set_ylabel('Umidade (%)')\n",
        "ah.tick_params(axis='y')\n",
        "\n",
        "# creating the grid and showing the figure\n",
        "ah.grid()\n",
        "plt.show()"
      ],
      "execution_count": null,
      "outputs": []
    },
    {
      "cell_type": "markdown",
      "metadata": {
        "id": "imARThuX-D5F",
        "colab_type": "text"
      },
      "source": [
        "### Umidade em função da Temperatura média."
      ]
    },
    {
      "cell_type": "code",
      "metadata": {
        "id": "v7qqiNZE_v_u",
        "colab_type": "code",
        "colab": {}
      },
      "source": [
        "# creating the figure\n",
        "fig11, ht = plt.subplots(figsize=(12, 8))\n",
        "\n",
        "# creating the plot\n",
        "lht, = ht.plot(tpm, df['Humidity'], color='blue')\n",
        "\n",
        "#creating the legend\n",
        "#pa.legend()\n",
        "\n",
        "# creating the x-axis label and the figure title\n",
        "ht.set_title('Umidade em função da Temperatura média')\n",
        "ht.set_xlabel('Temperatura média (ºC)')\n",
        "\n",
        "# creating the y-aixs label and the altitude plot\n",
        "ht.set_ylabel('Umidade (%)')\n",
        "ht.tick_params(axis='y')\n",
        "\n",
        "# creating the grid and showing the figure\n",
        "ht.grid()\n",
        "plt.show()"
      ],
      "execution_count": null,
      "outputs": []
    }
  ]
}